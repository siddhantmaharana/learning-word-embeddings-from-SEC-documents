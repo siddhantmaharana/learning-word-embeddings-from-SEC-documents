{
 "cells": [
  {
   "cell_type": "code",
   "execution_count": 1,
   "metadata": {
    "collapsed": true
   },
   "outputs": [],
   "source": [
    "import pandas as pd\n",
    "import numpy as np\n",
    "from gensim.models import Word2Vec\n",
    "from gensim.models import keyedvectors\n",
    "## Setting project home\n",
    "import os\n",
    "proj_home = '/home/smaharana1/sec_sentiment'\n",
    "os.chdir(proj_home)\n"
   ]
  },
  {
   "cell_type": "markdown",
   "metadata": {},
   "source": [
    "# Loading Embeddings"
   ]
  },
  {
   "cell_type": "markdown",
   "metadata": {},
   "source": [
    "### Word2vec Embeddings"
   ]
  },
  {
   "cell_type": "code",
   "execution_count": 2,
   "metadata": {
    "collapsed": true
   },
   "outputs": [],
   "source": [
    "import pickle\n",
    "with open ('data/interim/Word2Vec.Iter1.bin', 'rb') as fp:\n",
    "    w_emb = pickle.load(fp)"
   ]
  },
  {
   "cell_type": "markdown",
   "metadata": {},
   "source": [
    "### NN Embedding"
   ]
  },
  {
   "cell_type": "code",
   "execution_count": 3,
   "metadata": {
    "collapsed": true
   },
   "outputs": [],
   "source": [
    "import pickle\n",
    "with open ('data/interim/word_embedding_RNN', 'rb') as fp:\n",
    "    nn_emb = pickle.load(fp)"
   ]
  },
  {
   "cell_type": "markdown",
   "metadata": {},
   "source": [
    "# Evaluating Embeddings"
   ]
  },
  {
   "cell_type": "code",
   "execution_count": 29,
   "metadata": {
    "collapsed": true
   },
   "outputs": [],
   "source": [
    "test_words = ['income', 'restaurant', 'football', 'festival' ]"
   ]
  },
  {
   "cell_type": "markdown",
   "metadata": {},
   "source": [
    "## similar words in Word2vec"
   ]
  },
  {
   "cell_type": "code",
   "execution_count": 30,
   "metadata": {
    "collapsed": false
   },
   "outputs": [
    {
     "name": "stdout",
     "output_type": "stream",
     "text": [
      "[('net', 0.6381899118423462), ('earnings', 0.6175106763839722), ('income:', 0.60654616355896), ('income/', 0.5931230783462524), ('taxes', 0.5896264910697937), ('tax', 0.5894505381584167), ('loss', 0.558344304561615), ('attributable', 0.531856894493103), ('pretax', 0.5300734639167786), ('pre-tax', 0.5274377465248108)]\n",
      "[('restaurants', 0.8082222938537598), ('store', 0.7047421932220459), ('hotel', 0.6515606641769409), ('stores', 0.6351003646850586), ('steak', 0.608783483505249), ('theatre', 0.5998710989952087), ('openings', 0.594395637512207), ('dining', 0.5938757658004761), ('grille', 0.5858801603317261), ('casual', 0.5822917222976685)]\n",
      "[('league', 0.7715984582901001), ('baseball', 0.7280802130699158), ('catching', 0.5933967232704163), ('spots', 0.5846430659294128), ('festival', 0.5793777704238892), ('multispecialty', 0.5751360654830933), ('olympics', 0.5744346976280212), ('games', 0.5736268758773804), ('bowl', 0.5700197219848633), ('luck', 0.5659852027893066)]\n",
      "[('olympics', 0.6431922316551208), ('weekend', 0.6415917277336121), ('martins', 0.6293158531188965), ('bowl', 0.6233556270599365), ('-room', 0.6103578805923462), ('pearland', 0.6035548448562622), ('opryland', 0.5995736122131348), ('hollywood', 0.5990371108055115), ('kissimmee', 0.5970829725265503), ('palms', 0.5917444229125977)]\n"
     ]
    },
    {
     "name": "stderr",
     "output_type": "stream",
     "text": [
      "/usr/lib/python3.4/site-packages/ipykernel/__main__.py:3: DeprecationWarning: Call to deprecated `similar_by_word` (Method will be removed in 4.0.0, use self.wv.similar_by_word() instead).\n",
      "  app.launch_new_instance()\n",
      "/usr/lib64/python3.4/site-packages/gensim/matutils.py:737: FutureWarning: Conversion of the second argument of issubdtype from `int` to `np.signedinteger` is deprecated. In future, it will be treated as `np.int64 == np.dtype(int).type`.\n",
      "  if np.issubdtype(vec.dtype, np.int):\n"
     ]
    }
   ],
   "source": [
    "for t in test_words:\n",
    "    \n",
    "    print (w_emb.similar_by_word(t))"
   ]
  },
  {
   "cell_type": "markdown",
   "metadata": {},
   "source": [
    "## similar in neural net embeddings"
   ]
  },
  {
   "cell_type": "code",
   "execution_count": 31,
   "metadata": {
    "collapsed": false
   },
   "outputs": [],
   "source": [
    "\n",
    "\n",
    "def get_cosine(word):\n",
    "    cosine_similarity={}\n",
    "    vec1 = nn_emb[word]\n",
    "    for k,v in nn_emb.items():\n",
    "        vec2 = nn_emb[k]\n",
    "        cosine_sim = np.sum(vec1*vec2)/(np.linalg.norm(vec1)*np.linalg.norm(vec2))\n",
    "        cosine_similarity[k] = cosine_sim\n",
    "    ## sorting dict by decreasing value of similarity\n",
    "#     print (sorted(cosine_similarity.values(), reverse=True)[:10])\n",
    "    s = [(k, cosine_similarity[k]) for k in sorted(cosine_similarity, key=cosine_similarity.get, reverse=True)[1:15]]\n",
    "    print (s)\n"
   ]
  },
  {
   "cell_type": "code",
   "execution_count": 33,
   "metadata": {
    "collapsed": false
   },
   "outputs": [
    {
     "name": "stdout",
     "output_type": "stream",
     "text": [
      "[('neighborhoods', 0.27940673), ('overseeing', 0.24611188), ('icons', 0.24513799), ('nearby', 0.24223469), ('advantaged', 0.23836645), ('simplification', 0.23463233), ('cordova', 0.23271313), ('miguel', 0.23211353), ('testim', 0.22905748), (\"party's\", 0.22581849), ('repaying', 0.22153158), ('fibrocell', 0.22126117), ('ko', 0.22086254), ('inverse', 0.22040318)]\n",
      "None\n",
      "[('windfall', 0.2798699), ('patentability', 0.2606423), ('abandon', 0.24726598), ('founding', 0.2445382), ('hampstead', 0.2420852), ('chenal', 0.23836716), ('dulles', 0.23535927), ('caption', 0.23201323), ('arranging', 0.22694273), ('pecos', 0.22515148), ('wilmington', 0.22348762), ('piedmont', 0.21805452), ('resistance', 0.21777104), ('wellbore', 0.21527427)]\n",
      "None\n",
      "[('off', 0.29152122), ('dfa', 0.26091722), ('impax', 0.25662643), ('warrants', 0.25116012), ('advantaged', 0.24265926), ('distributees', 0.23997493), ('utica', 0.23865712), ('millions', 0.23757353), ('profits', 0.2371788), ('lowenstein', 0.23592511), ('nonexclusivity', 0.23419116), ('ldl', 0.23157911), ('beer', 0.23072535), ('calgary', 0.22910954)]\n",
      "None\n",
      "[('fusheng', 0.2885103), ('vulnerability', 0.2775512), ('modems', 0.25973687), ('quantity', 0.25971872), ('veeco', 0.25783622), ('marten', 0.2530707), ('avoidance', 0.25036567), ('gk', 0.24943228), ('infiniband', 0.23742303), ('sti', 0.23570223), ('readiness', 0.23171021), ('waiting', 0.2280169), ('pioneered', 0.22680855), ('lojuxta', 0.22436574)]\n",
      "None\n"
     ]
    }
   ],
   "source": [
    "for t in test_words:\n",
    "    \n",
    "    print (get_cosine(t))"
   ]
  },
  {
   "cell_type": "code",
   "execution_count": null,
   "metadata": {
    "collapsed": true
   },
   "outputs": [],
   "source": []
  }
 ],
 "metadata": {
  "kernelspec": {
   "display_name": "Python 3",
   "language": "python",
   "name": "python3"
  },
  "language_info": {
   "codemirror_mode": {
    "name": "ipython",
    "version": 3
   },
   "file_extension": ".py",
   "mimetype": "text/x-python",
   "name": "python",
   "nbconvert_exporter": "python",
   "pygments_lexer": "ipython3",
   "version": "3.4.3"
  }
 },
 "nbformat": 4,
 "nbformat_minor": 2
}
