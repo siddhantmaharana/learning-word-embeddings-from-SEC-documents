{
 "cells": [
  {
   "cell_type": "code",
   "execution_count": 85,
   "metadata": {
    "collapsed": true
   },
   "outputs": [],
   "source": [
    "## Importing libraries\n",
    "import pandas as pd\n",
    "import numpy as np\n",
    "import os\n",
    "import seaborn as sns\n",
    "import matplotlib.pyplot as plt\n",
    "% matplotlib inline\n"
   ]
  },
  {
   "cell_type": "markdown",
   "metadata": {},
   "source": [
    "## Fetching data and filtering them \n",
    "\n",
    "All the text we had downloaded are stored in the 'data/raw/html_files'. \n",
    "\n",
    "Next task is to tag these files to their corresponding sentiments from our 'Sentiment data' File which will later serve as a label for the classification"
   ]
  },
  {
   "cell_type": "code",
   "execution_count": 21,
   "metadata": {
    "collapsed": true
   },
   "outputs": [],
   "source": [
    "## Setting project home\n",
    "proj_home = '/home/smaharana1/sec_sentiment'\n",
    "os.chdir(proj_home)"
   ]
  },
  {
   "cell_type": "code",
   "execution_count": 4,
   "metadata": {
    "collapsed": true
   },
   "outputs": [],
   "source": [
    "## getting data for files and sentiment\n",
    "sent_file_path = os.path.join(proj_home,\"data\",\"raw\",\"Final_Data_with_Sentiment_data.csv\")\n",
    "sentiment_file = pd.read_csv(sent_file_path)"
   ]
  },
  {
   "cell_type": "code",
   "execution_count": 5,
   "metadata": {
    "collapsed": true
   },
   "outputs": [],
   "source": [
    "## files downloaded\n",
    "dwld_files = os.listdir(os.path.join(proj_home,\"data\",\"raw\",\"html_files\"))\n"
   ]
  },
  {
   "cell_type": "code",
   "execution_count": 6,
   "metadata": {
    "collapsed": true
   },
   "outputs": [],
   "source": [
    "## check if file is dwlded\n",
    "sentiment_file['is_file_downloaded'] = sentiment_file['File_path'].apply(lambda x : x.split(\"/\")[-1] if x.split(\"/\")[-1] in dwld_files else False)"
   ]
  },
  {
   "cell_type": "code",
   "execution_count": 118,
   "metadata": {
    "collapsed": true
   },
   "outputs": [],
   "source": [
    "### Filtering Files for which we have downloaded the SEC text data from cluster\n",
    "df = sentiment_file[sentiment_file['is_file_downloaded']!=False]\n",
    "df = df.reset_index()"
   ]
  },
  {
   "cell_type": "code",
   "execution_count": 119,
   "metadata": {
    "collapsed": true
   },
   "outputs": [],
   "source": [
    "## Setting path for fetching saved data\n",
    "file_path = os.path.join(proj_home,\"data\",\"raw\",\"html_files\")"
   ]
  },
  {
   "cell_type": "code",
   "execution_count": 120,
   "metadata": {
    "collapsed": true
   },
   "outputs": [],
   "source": [
    "## prefixing the file with the correct file path\n",
    "df['is_file_downloaded'] = str(file_path) + \"/\" + df['is_file_downloaded'].map(str)"
   ]
  },
  {
   "cell_type": "code",
   "execution_count": 121,
   "metadata": {
    "collapsed": true
   },
   "outputs": [],
   "source": [
    "## Storing the textual data as a series\n",
    "df['text'] =df['is_file_downloaded'].apply(lambda x: open(x).read())"
   ]
  },
  {
   "cell_type": "code",
   "execution_count": 122,
   "metadata": {
    "collapsed": true
   },
   "outputs": [],
   "source": [
    "## categorizing the sentiment as 1/0 for pos and neg\n",
    "df['sentiment'] = df['sentiment'].apply(lambda x: 1 if x=='pos' else 0)"
   ]
  },
  {
   "cell_type": "code",
   "execution_count": 123,
   "metadata": {
    "collapsed": true
   },
   "outputs": [],
   "source": [
    "## storing the length of the text, (word count)\n",
    "df['text_len']= df['text'].apply(lambda x: len(x.split()))"
   ]
  },
  {
   "cell_type": "code",
   "execution_count": 125,
   "metadata": {
    "collapsed": false
   },
   "outputs": [
    {
     "data": {
      "text/plain": [
       "(17762, 17)"
      ]
     },
     "execution_count": 125,
     "metadata": {},
     "output_type": "execute_result"
    }
   ],
   "source": [
    "df = df[df['text_len']>5].reset_index()\n",
    "df.shape"
   ]
  },
  {
   "cell_type": "markdown",
   "metadata": {},
   "source": [
    "17762 rows have SEC text data in them. \n",
    "\n",
    "But these have huge amount of data in several of them"
   ]
  },
  {
   "cell_type": "markdown",
   "metadata": {},
   "source": [
    "### Vizualizing the distribution of length of 'SEC text' "
   ]
  },
  {
   "cell_type": "code",
   "execution_count": 130,
   "metadata": {
    "collapsed": false
   },
   "outputs": [
    {
     "name": "stderr",
     "output_type": "stream",
     "text": [
      "/usr/lib64/python3.4/site-packages/matplotlib/figure.py:397: UserWarning: matplotlib is currently using a non-GUI backend, so cannot show the figure\n",
      "  \"matplotlib is currently using a non-GUI backend, \"\n"
     ]
    },
    {
     "data": {
      "image/png": "[encoded data removed]",
      "text/plain": [
       "<matplotlib.figure.Figure at 0x7f0ca4f237f0>"
      ]
     },
     "metadata": {},
     "output_type": "display_data"
    }
   ],
   "source": [
    "fig, ax = plt.subplots(1,2,figsize=(8, 3))\n",
    "\n",
    "sns.distplot(df['text_len'].values,bins=8,kde=False,ax=ax[0])\n",
    "ax[0].set_title('Linear Bins')\n",
    "\n",
    "LogMin, LogMax = np.log10(df['text_len'].min()),np.log10(df['text_len'].max())\n",
    "newBins = np.logspace(LogMin, LogMax,8)\n",
    "sns.distplot(df['text_len'].values,bins=newBins,kde=False,ax=ax[1])\n",
    "ax[1].set_xscale('log')\n",
    "ax[1].set_title('Log Bins')\n",
    "\n",
    "fig.show()"
   ]
  },
  {
   "cell_type": "markdown",
   "metadata": {},
   "source": [
    "The mean text length is around is 1000 words"
   ]
  },
  {
   "cell_type": "code",
   "execution_count": 131,
   "metadata": {
    "collapsed": true
   },
   "outputs": [],
   "source": [
    "## saving interim data\n",
    "df.to_csv('data/interim/17k_11_24_2018_00_20.csv')"
   ]
  },
  {
   "cell_type": "markdown",
   "metadata": {
    "collapsed": true
   },
   "source": [
    "### Cleaning stopwords and other characters\n"
   ]
  },
  {
   "cell_type": "code",
   "execution_count": null,
   "metadata": {
    "collapsed": true
   },
   "outputs": [],
   "source": [
    "def textClean(text):\n",
    "    text = re.sub(r\"[^A-Za-z^,!.\\/'+-=]\", \" \", str(text))\n",
    "    text = text.lower().split()\n",
    "    stops = {'so', 'his', 't', 'y', 'ours', 'herself', \n",
    "             'your', 'all', 'some', 'they', 'i', 'of', 'didn', \n",
    "             'them', 'when', 'will', 'that', 'its', 'because', \n",
    "             'while', 'those', 'my', 'don', 'again', 'her', 'if',\n",
    "             'further', 'now', 'does', 'against', 'won', 'same', \n",
    "             'a', 'during', 'who', 'here', 'have', 'in', 'being', \n",
    "             'it', 'other', 'once', 'itself', 'hers', 'after', 're',\n",
    "             'just', 'their', 'himself', 'theirs', 'whom', 'then', 'd', \n",
    "             'out', 'm', 'mustn', 'where', 'below', 'about', 'isn',\n",
    "             'shouldn', 'wouldn', 'these', 'me', 'to', 'doesn', 'into',\n",
    "             'the', 'until', 'she', 'am', 'under', 'how', 'yourself',\n",
    "             'couldn', 'ma', 'up', 'than', 'from', 'themselves', 'yourselves',\n",
    "             'off', 'above', 'yours', 'having', 'mightn', 'needn', 'on', \n",
    "             'too', 'there', 'an', 'and', 'down', 'ourselves', 'each',\n",
    "             'hadn', 'ain', 'such', 've', 'did', 'be', 'or', 'aren', 'he', \n",
    "             'should', 'for', 'both', 'doing', 'this', 'through', 'do', 'had',\n",
    "             'own', 'but', 'were', 'over', 'not', 'are', 'few', 'by', \n",
    "             'been', 'most', 'no', 'as', 'was', 'what', 's', 'is', 'you', \n",
    "             'shan', 'between', 'wasn', 'has', 'more', 'him', 'nor',\n",
    "             'can', 'why', 'any', 'at', 'myself', 'very', 'with', 'we', \n",
    "             'which', 'hasn', 'weren', 'haven', 'our', 'll', 'only',\n",
    "             'o', 'before'}\n",
    "    text = [w for w in text if not w in stops]    \n",
    "    text = \" \".join(text)\n",
    "    text = text.replace(\".\",\" \").replace(\",\",\" \")\n",
    "    return(text)"
   ]
  },
  {
   "cell_type": "code",
   "execution_count": null,
   "metadata": {
    "collapsed": true
   },
   "outputs": [],
   "source": [
    "import re\n",
    "df['text'] = df['text'].apply(textClean)\n",
    "df['text_len'] = df['text'].apply(lambda x: len(x.split()))\n",
    "df = df[df['text_len']>5]"
   ]
  },
  {
   "cell_type": "code",
   "execution_count": 1,
   "metadata": {
    "collapsed": false
   },
   "outputs": [
    {
     "ename": "NameError",
     "evalue": "name 'df' is not defined",
     "output_type": "error",
     "traceback": [
      "\u001b[0;31m---------------------------------------------------------------------------\u001b[0m",
      "\u001b[0;31mNameError\u001b[0m                                 Traceback (most recent call last)",
      "\u001b[0;32m<ipython-input-1-0c3cdf6c7699>\u001b[0m in \u001b[0;36m<module>\u001b[0;34m\u001b[0m\n\u001b[0;32m----> 1\u001b[0;31m \u001b[0mdf\u001b[0m\u001b[0;34m.\u001b[0m\u001b[0mto_csv\u001b[0m\u001b[0;34m(\u001b[0m\u001b[0;34m'data/interim/17k_11_24_2018_14_09.csv'\u001b[0m\u001b[0;34m)\u001b[0m\u001b[0;34m\u001b[0m\u001b[0m\n\u001b[0m",
      "\u001b[0;31mNameError\u001b[0m: name 'df' is not defined"
     ]
    }
   ],
   "source": [
    "df.to_csv('data/interim/17k_11_24_2018_14_09.csv')"
   ]
  },
  {
   "cell_type": "code",
   "execution_count": null,
   "metadata": {
    "collapsed": true
   },
   "outputs": [],
   "source": []
  }
 ],
 "metadata": {
  "kernelspec": {
   "display_name": "Python 3",
   "language": "python",
   "name": "python3"
  },
  "language_info": {
   "codemirror_mode": {
    "name": "ipython",
    "version": 3
   },
   "file_extension": ".py",
   "mimetype": "text/x-python",
   "name": "python",
   "nbconvert_exporter": "python",
   "pygments_lexer": "ipython3",
   "version": "3.4.3"
  }
 },
 "nbformat": 4,
 "nbformat_minor": 2
}
