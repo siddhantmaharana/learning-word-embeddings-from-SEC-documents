{
 "cells": [
  {
   "cell_type": "code",
   "execution_count": 4,
   "metadata": {},
   "outputs": [],
   "source": [
    "#### Importing libraries\n",
    "import pandas as pd\n",
    "import numpy as np\n",
    "import os"
   ]
  },
  {
   "cell_type": "code",
   "execution_count": 2,
   "metadata": {},
   "outputs": [],
   "source": [
    "df = pd.read_csv('deeplearning/17k_smalldata.csv')"
   ]
  },
  {
   "cell_type": "code",
   "execution_count": 3,
   "metadata": {},
   "outputs": [
    {
     "data": {
      "text/plain": [
       "Index(['Unnamed: 0', 'clean_text', 'sentiment'], dtype='object')"
      ]
     },
     "execution_count": 3,
     "metadata": {},
     "output_type": "execute_result"
    }
   ],
   "source": [
    "df.columns"
   ]
  },
  {
   "cell_type": "markdown",
   "metadata": {},
   "source": [
    "\n",
    "## Splitting data into test and training"
   ]
  },
  {
   "cell_type": "code",
   "execution_count": 4,
   "metadata": {},
   "outputs": [],
   "source": [
    "from sklearn.model_selection import train_test_split\n",
    "\n",
    "train, test = train_test_split(df[['clean_text','sentiment']], test_size=0.02)\n"
   ]
  },
  {
   "cell_type": "code",
   "execution_count": 5,
   "metadata": {
    "scrolled": true
   },
   "outputs": [
    {
     "name": "stderr",
     "output_type": "stream",
     "text": [
      "Using MXNet backend\n"
     ]
    }
   ],
   "source": [
    "from keras.preprocessing.text import Tokenizer\n",
    "from keras.preprocessing.sequence import pad_sequences\n",
    "from keras.utils import to_categorical\n",
    "from keras.layers import Activation,Dense,Dropout,Embedding,LSTM,Conv1D,GlobalMaxPooling1D,Flatten,MaxPooling1D,GRU,SpatialDropout1D,Bidirectional"
   ]
  },
  {
   "cell_type": "code",
   "execution_count": 6,
   "metadata": {},
   "outputs": [],
   "source": [
    "from keras.optimizers import adam"
   ]
  },
  {
   "cell_type": "markdown",
   "metadata": {},
   "source": [
    "## Defining Params"
   ]
  },
  {
   "cell_type": "code",
   "execution_count": 7,
   "metadata": {},
   "outputs": [],
   "source": [
    "# # Embedding\n",
    "maxlen = 10000\n",
    "max_features = 20000\n",
    "embedding_size = 200\n",
    "\n",
    "# Convolution\n",
    "kernel_size = 5\n",
    "filters = 64\n",
    "pool_size = 4\n",
    "\n",
    "# LSTM\n",
    "lstm_output_size = 256\n",
    "\n",
    "# Training\n",
    "batch_size = 128\n",
    "epochs = 2"
   ]
  },
  {
   "cell_type": "markdown",
   "metadata": {},
   "source": [
    "## Tokenizing and Padding"
   ]
  },
  {
   "cell_type": "code",
   "execution_count": 8,
   "metadata": {},
   "outputs": [],
   "source": [
    "def format_data(train, test, max_features, maxlen):\n",
    "\n",
    "    X = train['clean_text']\n",
    "    test_X = test['clean_text']\n",
    "    Y = train['sentiment'].values\n",
    "\n",
    "    tokenizer = Tokenizer(num_words=max_features)\n",
    "    tokenizer.fit_on_texts(list(X))\n",
    "\n",
    "    X = tokenizer.texts_to_sequences(X)\n",
    "    X = pad_sequences(X, maxlen=maxlen)\n",
    "    test_X = tokenizer.texts_to_sequences(test_X)\n",
    "    test_X = pad_sequences(test_X, maxlen=maxlen)\n",
    "\n",
    "    return X, Y, test_X"
   ]
  },
  {
   "cell_type": "code",
   "execution_count": 9,
   "metadata": {},
   "outputs": [],
   "source": [
    "X, Y, test_X = format_data(train, test, max_features, maxlen)"
   ]
  },
  {
   "cell_type": "code",
   "execution_count": null,
   "metadata": {},
   "outputs": [],
   "source": [
    "X.shape"
   ]
  },
  {
   "cell_type": "markdown",
   "metadata": {},
   "source": [
    "Train and Validation Split"
   ]
  },
  {
   "cell_type": "code",
   "execution_count": 10,
   "metadata": {},
   "outputs": [],
   "source": [
    "from sklearn.model_selection import train_test_split\n",
    "X_train, X_val, Y_train, Y_val = train_test_split(X[0:16406], Y[0:16406], test_size=0.20, random_state=1)"
   ]
  },
  {
   "cell_type": "code",
   "execution_count": 11,
   "metadata": {},
   "outputs": [
    {
     "data": {
      "text/plain": [
       "(3282, 10000)"
      ]
     },
     "execution_count": 11,
     "metadata": {},
     "output_type": "execute_result"
    }
   ],
   "source": [
    "X_val.shape"
   ]
  },
  {
   "cell_type": "code",
   "execution_count": 12,
   "metadata": {},
   "outputs": [],
   "source": [
    "from keras.layers import Input, Dense, Embedding, Flatten\n",
    "from keras.layers import SpatialDropout1D\n",
    "from keras.layers.convolutional import Conv1D, MaxPooling1D\n",
    "from keras.models import Sequential"
   ]
  },
  {
   "cell_type": "markdown",
   "metadata": {},
   "source": [
    "## 1 . Conv + LSTM with 10k embedding layer"
   ]
  },
  {
   "cell_type": "code",
   "execution_count": null,
   "metadata": {},
   "outputs": [],
   "source": [
    "print(model.summary())"
   ]
  },
  {
   "cell_type": "code",
   "execution_count": null,
   "metadata": {},
   "outputs": [],
   "source": [
    "X_train[0].shape"
   ]
  },
  {
   "cell_type": "code",
   "execution_count": 13,
   "metadata": {},
   "outputs": [
    {
     "name": "stderr",
     "output_type": "stream",
     "text": [
      "/usr/local/lib/python3.6/dist-packages/keras/backend/mxnet_backend.py:96: UserWarning: MXNet Backend performs best with `channels_first` format. Using `channels_last` will significantly reduce performance due to the Transpose operations. For performance improvement, please use this API`keras.utils.to_channels_first(x_input)`to transform `channels_last` data to `channels_first` format and also please change the `image_data_format` in `keras.json` to `channels_first`.Note: `x_input` is a Numpy tensor or a list of Numpy tensorRefer to: https://github.com/awslabs/keras-apache-mxnet/tree/master/docs/mxnet_backend/performance_guide.md\n",
      "  train_symbol = func(*args, **kwargs)\n",
      "/usr/local/lib/python3.6/dist-packages/keras/backend/mxnet_backend.py:99: UserWarning: MXNet Backend performs best with `channels_first` format. Using `channels_last` will significantly reduce performance due to the Transpose operations. For performance improvement, please use this API`keras.utils.to_channels_first(x_input)`to transform `channels_last` data to `channels_first` format and also please change the `image_data_format` in `keras.json` to `channels_first`.Note: `x_input` is a Numpy tensor or a list of Numpy tensorRefer to: https://github.com/awslabs/keras-apache-mxnet/tree/master/docs/mxnet_backend/performance_guide.md\n",
      "  test_symbol = func(*args, **kwargs)\n"
     ]
    },
    {
     "name": "stdout",
     "output_type": "stream",
     "text": [
      "_________________________________________________________________\n",
      "Layer (type)                 Output Shape              Param #   \n",
      "=================================================================\n",
      "embedding_1 (Embedding)      (None, 10000, 200)        4000000   \n",
      "_________________________________________________________________\n",
      "dropout_1 (Dropout)          (None, 10000, 200)        0         \n",
      "_________________________________________________________________\n",
      "conv1d_1 (Conv1D)            (None, 9996, 64)          64064     \n",
      "_________________________________________________________________\n",
      "max_pooling1d_1 (MaxPooling1 (None, 2499, 64)          0         \n",
      "_________________________________________________________________\n",
      "lstm_1 (LSTM)                (None, 256)               328704    \n",
      "_________________________________________________________________\n",
      "dropout_2 (Dropout)          (None, 256)               0         \n",
      "_________________________________________________________________\n",
      "dense_1 (Dense)              (None, 1)                 257       \n",
      "_________________________________________________________________\n",
      "activation_1 (Activation)    (None, 1)                 0         \n",
      "=================================================================\n",
      "Total params: 4,393,025\n",
      "Trainable params: 4,393,025\n",
      "Non-trainable params: 0\n",
      "_________________________________________________________________\n",
      "None\n"
     ]
    }
   ],
   "source": [
    "model = Sequential()\n",
    "model.add(Embedding(max_features, embedding_size, input_length=maxlen))\n",
    "model.add(Dropout(0.25))\n",
    "model.add(Conv1D(filters,\n",
    "                 kernel_size,\n",
    "                 padding='valid',\n",
    "                 activation='relu',\n",
    "                 strides=1))\n",
    "model.add(MaxPooling1D(pool_size=pool_size))\n",
    "model.add(LSTM(256,unroll=True))\n",
    "model.add(Dropout(0.5))\n",
    "# model.add(Dense(256))\n",
    "# model.add(Dropout(0.25))\n",
    "model.add(Dense(1))\n",
    "model.add(Activation('sigmoid'))\n",
    "adam_opt = adam(lr=0.0001, beta_1=0.99, beta_2=0.999, decay=0.0)\n",
    "model.compile(loss='binary_crossentropy',\n",
    "              optimizer=adam_opt,\n",
    "              metrics=['accuracy'])\n",
    "\n",
    "# lstm_out = 128\n",
    "\n",
    "# model = Sequential()\n",
    "# model.add(Embedding(max_features, embedding_size,input_length = maxlen))\n",
    "# model.add(SpatialDropout1D(0.4))\n",
    "# model.add(LSTM(lstm_out,unroll=True))\n",
    "# model.add(Dropout(0.25))\n",
    "# model.add(Dense(64))\n",
    "# model.add(Dropout(0.25))\n",
    "# model.add(Dense(1,activation='sigmoid'))\n",
    "# model.compile(loss = 'binary_crossentropy', optimizer='adam',metrics = ['accuracy'])\n",
    "print(model.summary())"
   ]
  },
  {
   "cell_type": "code",
   "execution_count": 14,
   "metadata": {},
   "outputs": [
    {
     "name": "stdout",
     "output_type": "stream",
     "text": [
      "Train on 13124 samples, validate on 3282 samples\n",
      "Epoch 1/10\n"
     ]
    },
    {
     "name": "stderr",
     "output_type": "stream",
     "text": [
      "/usr/local/lib/python3.6/dist-packages/mxnet/module/bucketing_module.py:408: UserWarning: Optimizer created manually outside Module but rescale_grad is not normalized to 1.0/batch_size/num_workers (1.0 vs. 0.015625). Is this intended?\n",
      "  force_init=force_init)\n"
     ]
    },
    {
     "name": "stdout",
     "output_type": "stream",
     "text": [
      "13124/13124 [==============================] - 441s 34ms/step - loss: 0.6933 - acc: 0.5015 - val_loss: 0.6931 - val_acc: 0.5012\n",
      "Epoch 2/10\n",
      "13124/13124 [==============================] - 434s 33ms/step - loss: 0.6927 - acc: 0.5030 - val_loss: 0.6931 - val_acc: 0.4994\n",
      "Epoch 3/10\n",
      "13124/13124 [==============================] - 440s 33ms/step - loss: 0.6916 - acc: 0.5335 - val_loss: 0.6931 - val_acc: 0.5101\n",
      "Epoch 4/10\n",
      "13124/13124 [==============================] - 2062s 157ms/step - loss: 0.6868 - acc: 0.5622 - val_loss: 0.6926 - val_acc: 0.5070\n",
      "Epoch 5/10\n",
      "13124/13124 [==============================] - 442s 34ms/step - loss: 0.6747 - acc: 0.5819 - val_loss: 0.6944 - val_acc: 0.5113\n",
      "Epoch 6/10\n",
      "13124/13124 [==============================] - 444s 34ms/step - loss: 0.6706 - acc: 0.6218 - val_loss: 0.6941 - val_acc: 0.5073\n",
      "Epoch 7/10\n",
      "13124/13124 [==============================] - 440s 34ms/step - loss: 0.6578 - acc: 0.6460 - val_loss: 0.6971 - val_acc: 0.5131\n",
      "Epoch 8/10\n",
      "13124/13124 [==============================] - 444s 34ms/step - loss: 0.6246 - acc: 0.6657 - val_loss: 0.7337 - val_acc: 0.5192\n",
      "Epoch 9/10\n",
      "13124/13124 [==============================] - 440s 34ms/step - loss: 0.5798 - acc: 0.6928 - val_loss: 0.7632 - val_acc: 0.5189\n",
      "Epoch 10/10\n",
      "13124/13124 [==============================] - 444s 34ms/step - loss: 0.5388 - acc: 0.7191 - val_loss: 0.7709 - val_acc: 0.5347\n"
     ]
    }
   ],
   "source": [
    "history = model.fit(X_train, Y_train, validation_data=(X_val, Y_val), epochs=10, batch_size=64, verbose=1)"
   ]
  },
  {
   "cell_type": "markdown",
   "metadata": {},
   "source": [
    "# LSTM Layer"
   ]
  },
  {
   "cell_type": "code",
   "execution_count": null,
   "metadata": {},
   "outputs": [],
   "source": [
    "lstm_out = 128\n",
    "\n",
    "model = Sequential()\n",
    "model.add(Embedding(max_features, embedding_size,input_length = maxlen))\n",
    "model.add(SpatialDropout1D(0.4))\n",
    "model.add(LSTM(lstm_out,unroll=True))\n",
    "model.add(Dropout(0.25))\n",
    "model.add(Dense(64))\n",
    "model.add(Dropout(0.25))\n",
    "model.add(Dense(1,activation='sigmoid'))\n",
    "model.compile(loss = 'binary_crossentropy', optimizer='adam',metrics = ['accuracy'])\n",
    "print(model.summary())"
   ]
  },
  {
   "cell_type": "code",
   "execution_count": null,
   "metadata": {},
   "outputs": [],
   "source": [
    "x_train[0]"
   ]
  },
  {
   "cell_type": "code",
   "execution_count": null,
   "metadata": {},
   "outputs": [],
   "source": [
    "history.history"
   ]
  },
  {
   "cell_type": "code",
   "execution_count": 15,
   "metadata": {},
   "outputs": [],
   "source": [
    "model.save_weights('conv_dense256_lstm_10000_200_embedding.h5')"
   ]
  },
  {
   "cell_type": "code",
   "execution_count": 18,
   "metadata": {},
   "outputs": [],
   "source": [
    "a = model.get_layer('embedding_1')"
   ]
  },
  {
   "cell_type": "code",
   "execution_count": 21,
   "metadata": {},
   "outputs": [],
   "source": [
    "b = a.get_weights"
   ]
  },
  {
   "cell_type": "code",
   "execution_count": 25,
   "metadata": {},
   "outputs": [],
   "source": [
    "from keras import backend as K"
   ]
  },
  {
   "cell_type": "code",
   "execution_count": 52,
   "metadata": {},
   "outputs": [],
   "source": [
    "embed_layer_data = model.get_weights()[0]"
   ]
  },
  {
   "cell_type": "code",
   "execution_count": 56,
   "metadata": {},
   "outputs": [],
   "source": [
    "import pickle\n",
    "with open('embeddings_RNN','wb') as outfile:\n",
    "    pickle.dump(embed_layer_data,outfile)"
   ]
  },
  {
   "cell_type": "code",
   "execution_count": 57,
   "metadata": {},
   "outputs": [],
   "source": [
    "with open ('embeddings_RNN', 'rb') as fp:\n",
    "    itemlist = pickle.load(fp)"
   ]
  },
  {
   "cell_type": "code",
   "execution_count": 59,
   "metadata": {},
   "outputs": [
    {
     "data": {
      "text/plain": [
       "(20000, 200)"
      ]
     },
     "execution_count": 59,
     "metadata": {},
     "output_type": "execute_result"
    }
   ],
   "source": [
    "itemlist.shape"
   ]
  },
  {
   "cell_type": "code",
   "execution_count": 1,
   "metadata": {},
   "outputs": [],
   "source": [
    "history = {'val_loss': [0.6931917690635091,\n",
    " 0.6932175990868312,\n",
    " 0.6932787315864377,\n",
    " 0.7001517295910047,\n",
    " 0.7145868477699308,\n",
    " 0.7725466592583549,\n",
    " 0.8061650781497804,\n",
    " 0.8134291960944641,\n",
    " 0.8739082970901062,\n",
    " 0.9090444055873399],\n",
    "'val_acc': [0.49451553941426807,\n",
    " 0.4948202315842793,\n",
    " 0.5076173065204144,\n",
    " 0.4951249237906126,\n",
    " 0.511578305929191,\n",
    " 0.5079219988175531,\n",
    " 0.5124923827116407,\n",
    " 0.5121876903963408,\n",
    " 0.512492382802446,\n",
    " 0.5146252286281621],\n",
    "'loss': [0.6937336094384512,\n",
    " 0.6925198636161086,\n",
    " 0.6906134029308204,\n",
    " 0.6848095828024071,\n",
    " 0.6588669327183927,\n",
    " 0.6175768040495287,\n",
    " 0.5742451872486997,\n",
    " 0.5351497803073001,\n",
    " 0.5090988055303016,\n",
    " 0.47614621363991244],\n",
    "'acc': [0.4934471197805547,\n",
    " 0.5183633038707711,\n",
    " 0.5442700396220664,\n",
    " 0.5646906430966169,\n",
    " 0.6170374885705577,\n",
    " 0.6569643401402011,\n",
    " 0.6866808899725694,\n",
    " 0.7152544955806157,\n",
    " 0.7339987808594941,\n",
    " 0.7538860103626943]}"
   ]
  },
  {
   "cell_type": "code",
   "execution_count": 2,
   "metadata": {},
   "outputs": [],
   "source": [
    "history1 = {'val_loss': [0.6931,\n",
    " 0.6965,\n",
    " 0.7181,\n",
    " 0.7472,\n",
    " 0.7863,\n",
    " 0.7954,\n",
    " 0.8061,\n",
    " 0.8134,\n",
    " 0.8739,\n",
    " 0.9090],\n",
    "'val_acc': [0.5017,\n",
    " 0.5069,\n",
    " 0.5112,\n",
    " 0.5130,\n",
    " 0.5039,\n",
    " 0.5182,\n",
    " 0.5124,\n",
    " 0.5021,\n",
    " 0.5124,\n",
    " 0.5146],\n",
    "'loss': [0.6937,\n",
    " 0.7240,\n",
    " 0.6581,\n",
    " 0.6084,\n",
    " 0.5682,\n",
    " 0.5285,\n",
    " 0.4883,\n",
    " 0.4750,\n",
    " 0.4630,\n",
    " 0.4521],\n",
    "'acc': [0.5038,\n",
    " 0.5772,\n",
    " 0.6105,\n",
    " 0.6588,\n",
    " 0.6871,\n",
    " 0.7211,\n",
    " 0.7488,\n",
    " 0.7750,\n",
    " 0.7910,\n",
    " 0.8150]}"
   ]
  },
  {
   "cell_type": "code",
   "execution_count": 5,
   "metadata": {},
   "outputs": [],
   "source": [
    "import matplotlib.pyplot as plt"
   ]
  },
  {
   "cell_type": "code",
   "execution_count": 6,
   "metadata": {},
   "outputs": [
    {
     "data": {
      "image/png": "[encoded data removed]",
      "text/plain": [
       "<Figure size 432x288 with 1 Axes>"
      ]
     },
     "metadata": {},
     "output_type": "display_data"
    }
   ],
   "source": [
    "# summarize history for accuracy\n",
    "plt.plot(history1['acc'])\n",
    "plt.plot(history1['val_acc'])\n",
    "plt.title('model accuracy')\n",
    "plt.ylabel('accuracy')\n",
    "plt.xlabel('epoch')\n",
    "plt.legend(['train', 'validation'], loc='upper left')\n",
    "plt.show()"
   ]
  },
  {
   "cell_type": "code",
   "execution_count": 7,
   "metadata": {},
   "outputs": [
    {
     "data": {
      "image/png": "[encoded data removed]",
      "text/plain": [
       "<Figure size 432x288 with 1 Axes>"
      ]
     },
     "metadata": {},
     "output_type": "display_data"
    }
   ],
   "source": [
    "plt.plot(history1['loss'])\n",
    "plt.plot(history1['val_loss'])\n",
    "plt.title('model loss')\n",
    "plt.ylabel('loss')\n",
    "plt.xlabel('epoch')\n",
    "plt.legend(['train', 'validation'], loc='upper left')\n",
    "plt.show()"
   ]
  }
 ],
 "metadata": {
  "kernelspec": {
   "display_name": "Python 3",
   "language": "python",
   "name": "python3"
  },
  "language_info": {
   "codemirror_mode": {
    "name": "ipython",
    "version": 3
   },
   "file_extension": ".py",
   "mimetype": "text/x-python",
   "name": "python",
   "nbconvert_exporter": "python",
   "pygments_lexer": "ipython3",
   "version": "3.6.6"
  }
 },
 "nbformat": 4,
 "nbformat_minor": 2
}
